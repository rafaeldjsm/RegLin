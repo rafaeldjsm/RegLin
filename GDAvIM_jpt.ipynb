{
 "cells": [
  {
   "cell_type": "code",
   "execution_count": 85,
   "metadata": {
    "colab": {
     "base_uri": "https://localhost:8080/",
     "height": 614
    },
    "colab_type": "code",
    "executionInfo": {
     "elapsed": 722,
     "status": "ok",
     "timestamp": 1585685150150,
     "user": {
      "displayName": "rafael de jesus silva monteiro",
      "photoUrl": "https://lh3.googleusercontent.com/a-/AOh14Gg9CG5T3IrXX8hVV8ncOi0sN0UZPOJ2LGgGmbK5MQ=s64",
      "userId": "01151735878290786330"
     },
     "user_tz": 240
    },
    "id": "X4KEdtCsA0aP",
    "outputId": "3e3a2b97-6c3d-4445-de2f-61c3e74b16b4"
   },
   "outputs": [
    {
     "name": "stdout",
     "output_type": "stream",
     "text": [
      "[-106752.30111612    7819.83923954    3071.97145489    1623.09155411\n",
      "   19709.75071111  181195.99962498   65912.49212904   -3647.42307178\n",
      "   -5788.82446593  -29077.40567584]\n"
     ]
    }
   ],
   "source": [
    "# -*- coding: utf-8 -*-\n",
    "#Use to import pandas\n",
    "import pandas as pd\n",
    "import numpy as np\n",
    "\n",
    "#Através de uma lista de varáveis explicativas retorna a regressão linear multipla\n",
    "\n",
    "df = pd.read_excel ('Dados.xlsx', decimal=\",\",encoding='latin1')\n",
    "df=df.drop(columns=['Dado'])\n",
    "\n",
    "y=df.iloc[:,-1] #Vetor dos valores totais 'ou unitários' \n",
    "\n",
    "\n",
    "df=df.iloc[:,:-1] #Retirando o vetor dos dos valores totais 'ou unitários' \n",
    "dm=df.T\n",
    "nl=dm.shape\n",
    "nl = nl[1]\n",
    "\n",
    "y=y.iloc[:nl-1] #Retirando o ultimo valor do Vetor dos valores totais 'ou unitários'\n",
    "\n",
    "vet=np.ones((nl,), dtype=int) #Vetor unitário a ser inserido na primeira coluna da Matriz Ddos x Variaveis=x\n",
    "vet=(pd.DataFrame(vet)).T\n",
    "\n",
    "xt=pd.concat([vet, dm])\n",
    "xt=xt.drop(columns=[nl-1])\n",
    "\n",
    "xt.reset_index(drop=True, inplace=True)\n",
    "xt=xt.values \n",
    "x=xt.T #Vetor das observações das variáveis explicativas\n",
    "\n",
    "c=np.matmul(xt,x)\n",
    "ci=np.linalg.inv(c)\n",
    "xty=np.matmul(xt,y)\n",
    "\n",
    "b=np.matmul(ci,xty) #Vetor dos coeficientes regressores\n",
    "\n",
    "print(b)\n",
    "#print(\"A equação da regressão linear será\") para tentar juntar o vetor a as variaveis x1,x2...\n"
   ]
  },
  {
   "cell_type": "code",
   "execution_count": 92,
   "metadata": {
    "colab": {
     "base_uri": "https://localhost:8080/",
     "height": 255
    },
    "colab_type": "code",
    "executionInfo": {
     "elapsed": 707,
     "status": "ok",
     "timestamp": 1585685911852,
     "user": {
      "displayName": "rafael de jesus silva monteiro",
      "photoUrl": "https://lh3.googleusercontent.com/a-/AOh14Gg9CG5T3IrXX8hVV8ncOi0sN0UZPOJ2LGgGmbK5MQ=s64",
      "userId": "01151735878290786330"
     },
     "user_tz": 240
    },
    "id": "yJet6v3GcllE",
    "outputId": "87bf7ce3-4640-4581-d422-470cf364e7f2"
   },
   "outputs": [
    {
     "name": "stdout",
     "output_type": "stream",
     "text": [
      "-106752.30111612007+7819.839239536144+3071.9714548919+1623.0915541052382+19709.750711105764+181195.99962497503+65912.4921290353+-3647.423071780242+-5788.824465927668+-29077.405675843824\n"
     ]
    }
   ],
   "source": [
    "print(*b, sep = \"+\");"
   ]
  }
 ],
 "metadata": {
  "colab": {
   "authorship_tag": "ABX9TyMvHGBVsArERGeJNMBxFv72",
   "collapsed_sections": [],
   "mount_file_id": "14V5HuT29fboOzQAR715cz-K4AWEfonfc",
   "name": "GDAvIM.ipynb",
   "provenance": []
  },
  "kernelspec": {
   "display_name": "Python 3",
   "language": "python",
   "name": "python3"
  },
  "language_info": {
   "codemirror_mode": {
    "name": "ipython",
    "version": 3
   },
   "file_extension": ".py",
   "mimetype": "text/x-python",
   "name": "python",
   "nbconvert_exporter": "python",
   "pygments_lexer": "ipython3",
   "version": "3.7.6"
  }
 },
 "nbformat": 4,
 "nbformat_minor": 1
}
